{
  "cells": [
    {
      "metadata": {
        "trusted": true,
        "_uuid": "bcebaf502c4e8dca456d8def49dd40993b53f096"
      },
      "cell_type": "code",
      "source": "import os\nimport json\nimport numpy as np\nimport pandas as pd\nfrom pandas.io.json import json_normalize\nimport matplotlib.pyplot as plt\nimport seaborn as sns\nimport datetime\nfrom sklearn.linear_model import LinearRegression\nfrom sklearn.linear_model import Ridge\nfrom sklearn.linear_model import Lasso\nfrom sklearn.ensemble import RandomForestRegressor\nfrom sklearn import metrics\ncolor = sns.color_palette()\n\n%matplotlib inline\n\nfrom plotly import tools\nimport plotly.offline as py\npy.init_notebook_mode(connected=True)\nimport plotly.graph_objs as go\nimport sklearn\nfrom sklearn import model_selection, preprocessing, metrics\nimport lightgbm as lgb\n\npd.options.mode.chained_assignment = None\npd.options.display.max_columns = 999",
      "execution_count": 1,
      "outputs": [
        {
          "output_type": "display_data",
          "data": {
            "text/html": "<script type=\"text/javascript\">window.PlotlyConfig = {MathJaxConfig: 'local'};</script><script type=\"text/javascript\">if (window.MathJax) {MathJax.Hub.Config({SVG: {font: \"STIX-Web\"}});}</script><script>requirejs.config({paths: { 'plotly': ['https://cdn.plot.ly/plotly-latest.min']},});if(!window._Plotly) {require(['plotly'],function(plotly) {window._Plotly=plotly;});}</script>",
            "text/vnd.plotly.v1+html": "<script type=\"text/javascript\">window.PlotlyConfig = {MathJaxConfig: 'local'};</script><script type=\"text/javascript\">if (window.MathJax) {MathJax.Hub.Config({SVG: {font: \"STIX-Web\"}});}</script><script>requirejs.config({paths: { 'plotly': ['https://cdn.plot.ly/plotly-latest.min']},});if(!window._Plotly) {require(['plotly'],function(plotly) {window._Plotly=plotly;});}</script>"
          },
          "metadata": {}
        }
      ]
    },
    {
      "metadata": {
        "trusted": true,
        "_uuid": "5068a59fd400a2fef05656d47ce780da34cf851b"
      },
      "cell_type": "code",
      "source": "%%time\npath = \"../input/parse-json-v2-without-hits-column/\"\ntrain_df = pd.read_pickle(path + 'train_v2_clean.pkl')\ntest_df = pd.read_pickle(path + 'test_v2_clean.pkl')",
      "execution_count": 2,
      "outputs": [
        {
          "output_type": "stream",
          "text": "CPU times: user 5.17 s, sys: 11 s, total: 16.1 s\nWall time: 16.3 s\n",
          "name": "stdout"
        }
      ]
    },
    {
      "metadata": {
        "trusted": true,
        "_uuid": "a9a65f2c14e012d97d59895f1a2b18ddf029766e"
      },
      "cell_type": "code",
      "source": "train_df.head()",
      "execution_count": 3,
      "outputs": [
        {
          "output_type": "execute_result",
          "execution_count": 3,
          "data": {
            "text/plain": "  channelGrouping      date        fullVisitorId     visitId  visitNumber  \\\n0  Organic Search  20171016  3162355547410993243  1508198450            1   \n1        Referral  20171016  8934116514970143966  1508176307            6   \n2          Direct  20171016  7992466427990357681  1508201613            1   \n3  Organic Search  20171016  9075655783635761930  1508169851            1   \n4  Organic Search  20171016  6960673291025684308  1508190552            1   \n\n   visitStartTime device_browser device_deviceCategory  device_isMobile  \\\n0      1508198450        Firefox               desktop            False   \n1      1508176307         Chrome               desktop            False   \n2      1508201613         Chrome                mobile             True   \n3      1508169851         Chrome               desktop            False   \n4      1508190552         Chrome               desktop            False   \n\n  device_operatingSystem                geoNetwork_city geoNetwork_continent  \\\n0                Windows  not available in demo dataset               Europe   \n1              Chrome OS                      Cupertino             Americas   \n2                Android  not available in demo dataset             Americas   \n3                Windows  not available in demo dataset                 Asia   \n4                Windows  not available in demo dataset             Americas   \n\n  geoNetwork_country                   geoNetwork_metro  \\\n0            Germany      not available in demo dataset   \n1      United States  San Francisco-Oakland-San Jose CA   \n2      United States      not available in demo dataset   \n3             Turkey      not available in demo dataset   \n4             Mexico      not available in demo dataset   \n\n  geoNetwork_networkDomain              geoNetwork_region  \\\n0                (not set)  not available in demo dataset   \n1                (not set)                     California   \n2      windjammercable.net  not available in demo dataset   \n3          unknown.unknown  not available in demo dataset   \n4    prod-infinitum.com.mx  not available in demo dataset   \n\n  geoNetwork_subContinent totals_bounces totals_hits totals_newVisits  \\\n0          Western Europe              1           1                1   \n1        Northern America            NaN           2              NaN   \n2        Northern America            NaN           2                1   \n3            Western Asia            NaN           2                1   \n4         Central America            NaN           2                1   \n\n  totals_pageviews totals_sessionQualityDim totals_timeOnSite  \\\n0                1                        1               NaN   \n1                2                        2                28   \n2                2                        1                38   \n3                2                        1                 1   \n4                2                        1                52   \n\n  totals_totalTransactionRevenue totals_transactionRevenue  \\\n0                            NaN                       NaN   \n1                            NaN                       NaN   \n2                            NaN                       NaN   \n3                            NaN                       NaN   \n4                            NaN                       NaN   \n\n  totals_transactions trafficSource_adContent  \\\n0                 NaN                     NaN   \n1                 NaN                     NaN   \n2                 NaN                     NaN   \n3                 NaN                     NaN   \n4                 NaN                     NaN   \n\n  trafficSource_adwordsClickInfo.adNetworkType  \\\n0                                          NaN   \n1                                          NaN   \n2                                          NaN   \n3                                          NaN   \n4                                          NaN   \n\n  trafficSource_adwordsClickInfo.gclId  \\\n0                                  NaN   \n1                                  NaN   \n2                                  NaN   \n3                                  NaN   \n4                                  NaN   \n\n  trafficSource_adwordsClickInfo.isVideoAd  \\\n0                                      NaN   \n1                                      NaN   \n2                                      NaN   \n3                                      NaN   \n4                                      NaN   \n\n  trafficSource_adwordsClickInfo.page trafficSource_adwordsClickInfo.slot  \\\n0                                 NaN                                 NaN   \n1                                 NaN                                 NaN   \n2                                 NaN                                 NaN   \n3                                 NaN                                 NaN   \n4                                 NaN                                 NaN   \n\n  trafficSource_campaign trafficSource_isTrueDirect trafficSource_keyword  \\\n0              (not set)                        NaN          water bottle   \n1              (not set)                        NaN                   NaN   \n2              (not set)                       True                   NaN   \n3              (not set)                        NaN        (not provided)   \n4              (not set)                        NaN        (not provided)   \n\n  trafficSource_medium                         trafficSource_referralPath  \\\n0              organic                                                NaN   \n1             referral  /a/google.com/transportation/mtv-services/bike...   \n2               (none)                                                NaN   \n3              organic                                                NaN   \n4              organic                                                NaN   \n\n  trafficSource_source customDimensions_value  \n0               google                   EMEA  \n1     sites.google.com          North America  \n2             (direct)          North America  \n3               google                   EMEA  \n4               google        Central America  ",
            "text/html": "<div>\n<style scoped>\n    .dataframe tbody tr th:only-of-type {\n        vertical-align: middle;\n    }\n\n    .dataframe tbody tr th {\n        vertical-align: top;\n    }\n\n    .dataframe thead th {\n        text-align: right;\n    }\n</style>\n<table border=\"1\" class=\"dataframe\">\n  <thead>\n    <tr style=\"text-align: right;\">\n      <th></th>\n      <th>channelGrouping</th>\n      <th>date</th>\n      <th>fullVisitorId</th>\n      <th>visitId</th>\n      <th>visitNumber</th>\n      <th>visitStartTime</th>\n      <th>device_browser</th>\n      <th>device_deviceCategory</th>\n      <th>device_isMobile</th>\n      <th>device_operatingSystem</th>\n      <th>geoNetwork_city</th>\n      <th>geoNetwork_continent</th>\n      <th>geoNetwork_country</th>\n      <th>geoNetwork_metro</th>\n      <th>geoNetwork_networkDomain</th>\n      <th>geoNetwork_region</th>\n      <th>geoNetwork_subContinent</th>\n      <th>totals_bounces</th>\n      <th>totals_hits</th>\n      <th>totals_newVisits</th>\n      <th>totals_pageviews</th>\n      <th>totals_sessionQualityDim</th>\n      <th>totals_timeOnSite</th>\n      <th>totals_totalTransactionRevenue</th>\n      <th>totals_transactionRevenue</th>\n      <th>totals_transactions</th>\n      <th>trafficSource_adContent</th>\n      <th>trafficSource_adwordsClickInfo.adNetworkType</th>\n      <th>trafficSource_adwordsClickInfo.gclId</th>\n      <th>trafficSource_adwordsClickInfo.isVideoAd</th>\n      <th>trafficSource_adwordsClickInfo.page</th>\n      <th>trafficSource_adwordsClickInfo.slot</th>\n      <th>trafficSource_campaign</th>\n      <th>trafficSource_isTrueDirect</th>\n      <th>trafficSource_keyword</th>\n      <th>trafficSource_medium</th>\n      <th>trafficSource_referralPath</th>\n      <th>trafficSource_source</th>\n      <th>customDimensions_value</th>\n    </tr>\n  </thead>\n  <tbody>\n    <tr>\n      <th>0</th>\n      <td>Organic Search</td>\n      <td>20171016</td>\n      <td>3162355547410993243</td>\n      <td>1508198450</td>\n      <td>1</td>\n      <td>1508198450</td>\n      <td>Firefox</td>\n      <td>desktop</td>\n      <td>False</td>\n      <td>Windows</td>\n      <td>not available in demo dataset</td>\n      <td>Europe</td>\n      <td>Germany</td>\n      <td>not available in demo dataset</td>\n      <td>(not set)</td>\n      <td>not available in demo dataset</td>\n      <td>Western Europe</td>\n      <td>1</td>\n      <td>1</td>\n      <td>1</td>\n      <td>1</td>\n      <td>1</td>\n      <td>NaN</td>\n      <td>NaN</td>\n      <td>NaN</td>\n      <td>NaN</td>\n      <td>NaN</td>\n      <td>NaN</td>\n      <td>NaN</td>\n      <td>NaN</td>\n      <td>NaN</td>\n      <td>NaN</td>\n      <td>(not set)</td>\n      <td>NaN</td>\n      <td>water bottle</td>\n      <td>organic</td>\n      <td>NaN</td>\n      <td>google</td>\n      <td>EMEA</td>\n    </tr>\n    <tr>\n      <th>1</th>\n      <td>Referral</td>\n      <td>20171016</td>\n      <td>8934116514970143966</td>\n      <td>1508176307</td>\n      <td>6</td>\n      <td>1508176307</td>\n      <td>Chrome</td>\n      <td>desktop</td>\n      <td>False</td>\n      <td>Chrome OS</td>\n      <td>Cupertino</td>\n      <td>Americas</td>\n      <td>United States</td>\n      <td>San Francisco-Oakland-San Jose CA</td>\n      <td>(not set)</td>\n      <td>California</td>\n      <td>Northern America</td>\n      <td>NaN</td>\n      <td>2</td>\n      <td>NaN</td>\n      <td>2</td>\n      <td>2</td>\n      <td>28</td>\n      <td>NaN</td>\n      <td>NaN</td>\n      <td>NaN</td>\n      <td>NaN</td>\n      <td>NaN</td>\n      <td>NaN</td>\n      <td>NaN</td>\n      <td>NaN</td>\n      <td>NaN</td>\n      <td>(not set)</td>\n      <td>NaN</td>\n      <td>NaN</td>\n      <td>referral</td>\n      <td>/a/google.com/transportation/mtv-services/bike...</td>\n      <td>sites.google.com</td>\n      <td>North America</td>\n    </tr>\n    <tr>\n      <th>2</th>\n      <td>Direct</td>\n      <td>20171016</td>\n      <td>7992466427990357681</td>\n      <td>1508201613</td>\n      <td>1</td>\n      <td>1508201613</td>\n      <td>Chrome</td>\n      <td>mobile</td>\n      <td>True</td>\n      <td>Android</td>\n      <td>not available in demo dataset</td>\n      <td>Americas</td>\n      <td>United States</td>\n      <td>not available in demo dataset</td>\n      <td>windjammercable.net</td>\n      <td>not available in demo dataset</td>\n      <td>Northern America</td>\n      <td>NaN</td>\n      <td>2</td>\n      <td>1</td>\n      <td>2</td>\n      <td>1</td>\n      <td>38</td>\n      <td>NaN</td>\n      <td>NaN</td>\n      <td>NaN</td>\n      <td>NaN</td>\n      <td>NaN</td>\n      <td>NaN</td>\n      <td>NaN</td>\n      <td>NaN</td>\n      <td>NaN</td>\n      <td>(not set)</td>\n      <td>True</td>\n      <td>NaN</td>\n      <td>(none)</td>\n      <td>NaN</td>\n      <td>(direct)</td>\n      <td>North America</td>\n    </tr>\n    <tr>\n      <th>3</th>\n      <td>Organic Search</td>\n      <td>20171016</td>\n      <td>9075655783635761930</td>\n      <td>1508169851</td>\n      <td>1</td>\n      <td>1508169851</td>\n      <td>Chrome</td>\n      <td>desktop</td>\n      <td>False</td>\n      <td>Windows</td>\n      <td>not available in demo dataset</td>\n      <td>Asia</td>\n      <td>Turkey</td>\n      <td>not available in demo dataset</td>\n      <td>unknown.unknown</td>\n      <td>not available in demo dataset</td>\n      <td>Western Asia</td>\n      <td>NaN</td>\n      <td>2</td>\n      <td>1</td>\n      <td>2</td>\n      <td>1</td>\n      <td>1</td>\n      <td>NaN</td>\n      <td>NaN</td>\n      <td>NaN</td>\n      <td>NaN</td>\n      <td>NaN</td>\n      <td>NaN</td>\n      <td>NaN</td>\n      <td>NaN</td>\n      <td>NaN</td>\n      <td>(not set)</td>\n      <td>NaN</td>\n      <td>(not provided)</td>\n      <td>organic</td>\n      <td>NaN</td>\n      <td>google</td>\n      <td>EMEA</td>\n    </tr>\n    <tr>\n      <th>4</th>\n      <td>Organic Search</td>\n      <td>20171016</td>\n      <td>6960673291025684308</td>\n      <td>1508190552</td>\n      <td>1</td>\n      <td>1508190552</td>\n      <td>Chrome</td>\n      <td>desktop</td>\n      <td>False</td>\n      <td>Windows</td>\n      <td>not available in demo dataset</td>\n      <td>Americas</td>\n      <td>Mexico</td>\n      <td>not available in demo dataset</td>\n      <td>prod-infinitum.com.mx</td>\n      <td>not available in demo dataset</td>\n      <td>Central America</td>\n      <td>NaN</td>\n      <td>2</td>\n      <td>1</td>\n      <td>2</td>\n      <td>1</td>\n      <td>52</td>\n      <td>NaN</td>\n      <td>NaN</td>\n      <td>NaN</td>\n      <td>NaN</td>\n      <td>NaN</td>\n      <td>NaN</td>\n      <td>NaN</td>\n      <td>NaN</td>\n      <td>NaN</td>\n      <td>(not set)</td>\n      <td>NaN</td>\n      <td>(not provided)</td>\n      <td>organic</td>\n      <td>NaN</td>\n      <td>google</td>\n      <td>Central America</td>\n    </tr>\n  </tbody>\n</table>\n</div>"
          },
          "metadata": {}
        }
      ]
    },
    {
      "metadata": {
        "trusted": true,
        "_uuid": "c8b9166ee5583bfa40652ae3c6be17f917f049d1"
      },
      "cell_type": "code",
      "source": "train_df.columns",
      "execution_count": 4,
      "outputs": [
        {
          "output_type": "execute_result",
          "execution_count": 4,
          "data": {
            "text/plain": "Index(['channelGrouping', 'date', 'fullVisitorId', 'visitId', 'visitNumber',\n       'visitStartTime', 'device_browser', 'device_deviceCategory',\n       'device_isMobile', 'device_operatingSystem', 'geoNetwork_city',\n       'geoNetwork_continent', 'geoNetwork_country', 'geoNetwork_metro',\n       'geoNetwork_networkDomain', 'geoNetwork_region',\n       'geoNetwork_subContinent', 'totals_bounces', 'totals_hits',\n       'totals_newVisits', 'totals_pageviews', 'totals_sessionQualityDim',\n       'totals_timeOnSite', 'totals_totalTransactionRevenue',\n       'totals_transactionRevenue', 'totals_transactions',\n       'trafficSource_adContent',\n       'trafficSource_adwordsClickInfo.adNetworkType',\n       'trafficSource_adwordsClickInfo.gclId',\n       'trafficSource_adwordsClickInfo.isVideoAd',\n       'trafficSource_adwordsClickInfo.page',\n       'trafficSource_adwordsClickInfo.slot', 'trafficSource_campaign',\n       'trafficSource_isTrueDirect', 'trafficSource_keyword',\n       'trafficSource_medium', 'trafficSource_referralPath',\n       'trafficSource_source', 'customDimensions_value'],\n      dtype='object')"
          },
          "metadata": {}
        }
      ]
    },
    {
      "metadata": {
        "_uuid": "5cf235dc773815061d4b42c9cb744b2a0cb069e3"
      },
      "cell_type": "markdown",
      "source": "# Split data by date."
    },
    {
      "metadata": {
        "trusted": true,
        "_uuid": "444aef736d5fc97ddd81a8af227c09d1e9041b7d"
      },
      "cell_type": "code",
      "source": "train_df[\"date\"] = pd.to_datetime(train_df[\"date\"], format=\"%Y%m%d\")\ntest_df[\"date\"] = pd.to_datetime(test_df[\"date\"], format=\"%Y%m%d\")",
      "execution_count": 5,
      "outputs": []
    },
    {
      "metadata": {
        "trusted": true,
        "_uuid": "edeb4e63d544e752d916166d8ec40b63c83c7484"
      },
      "cell_type": "code",
      "source": "train_df['date'].max(),train_df['date'].min()",
      "execution_count": 6,
      "outputs": [
        {
          "output_type": "execute_result",
          "execution_count": 6,
          "data": {
            "text/plain": "(Timestamp('2018-04-30 00:00:00'), Timestamp('2016-08-01 00:00:00'))"
          },
          "metadata": {}
        }
      ]
    },
    {
      "metadata": {
        "trusted": true,
        "_uuid": "39a69e4bb6273d4e4ce256b5bc65215545ee4223"
      },
      "cell_type": "code",
      "source": "test_df['date'].max(),test_df['date'].min()",
      "execution_count": 7,
      "outputs": [
        {
          "output_type": "execute_result",
          "execution_count": 7,
          "data": {
            "text/plain": "(Timestamp('2018-10-15 00:00:00'), Timestamp('2018-05-01 00:00:00'))"
          },
          "metadata": {}
        }
      ]
    },
    {
      "metadata": {
        "_uuid": "24318bc475be4e921bcfccf9baa67e9de6252f99"
      },
      "cell_type": "markdown",
      "source": "## The Training data is from 2016-08-01 to 2018-04-30, while the Testing data is from 2018-05-01 to 2018-10-15."
    },
    {
      "metadata": {
        "_uuid": "63c6f6e1febe3592a0a728b9b0ebd4e4f9fdd922"
      },
      "cell_type": "markdown",
      "source": "## Spliting Training Data Into Preprocessing, Training, Validation."
    },
    {
      "metadata": {
        "_uuid": "e361267de5ab9b17812c96fe59ef9389fad7f8aa"
      },
      "cell_type": "markdown",
      "source": "## Training Set\n* Preprocessing  Set ==> 2016/08/01 ~ 2016/09/30 (2 month)\n* Training Set  ==> 2016/10/01 ~ 2017/12/31 (13 month)\n* Validation Set ==> 2018/01/01 ~ 2018/04/30 (4 month)"
    },
    {
      "metadata": {
        "trusted": true,
        "_uuid": "2fedd6b040141e6492847d3face1521593a7fe78"
      },
      "cell_type": "code",
      "source": "pre_set = train_df[(train_df['date']<=pd.datetime(2016,9,30)) & (train_df['date']>=pd.datetime(2016,8,1))]\ntrain_set= train_df[(train_df['date']<=pd.datetime(2017,12,31)) & (train_df['date']>=pd.datetime(2016,10,1))]\nval_set = train_df[(train_df['date']<=pd.datetime(2018,4,30)) & (train_df['date']>=pd.datetime(2018,1,1))]\ntest_set = test_df.copy()",
      "execution_count": 8,
      "outputs": []
    },
    {
      "metadata": {
        "trusted": true,
        "_uuid": "bd4f7736754dafec4dc803cd8e9cf8f1b0ab976d"
      },
      "cell_type": "code",
      "source": "pre_set.shape, train_set.shape, val_set.shape",
      "execution_count": 9,
      "outputs": [
        {
          "output_type": "execute_result",
          "execution_count": 9,
          "data": {
            "text/plain": "((145791, 39), (1219462, 39), (343084, 39))"
          },
          "metadata": {}
        }
      ]
    },
    {
      "metadata": {
        "trusted": true,
        "_uuid": "47d314f033d8261d6d663bc26b3a7c29208a8c35"
      },
      "cell_type": "code",
      "source": "test_set.shape",
      "execution_count": 10,
      "outputs": [
        {
          "output_type": "execute_result",
          "execution_count": 10,
          "data": {
            "text/plain": "(401589, 39)"
          },
          "metadata": {}
        }
      ]
    },
    {
      "metadata": {
        "_uuid": "8fce5faa6be553b24da0b0cefcfcd6a9aeafec7f"
      },
      "cell_type": "markdown",
      "source": "# Preprocess"
    },
    {
      "metadata": {
        "trusted": true,
        "_uuid": "79975292744c4a64ddfd714afc9b6e494b34b8e0"
      },
      "cell_type": "code",
      "source": "pre_set.head()",
      "execution_count": 11,
      "outputs": [
        {
          "output_type": "execute_result",
          "execution_count": 11,
          "data": {
            "text/plain": "     channelGrouping       date        fullVisitorId     visitId  visitNumber  \\\n2989  Organic Search 2016-09-02  9499785259412240342  1472812272            1   \n2990  Organic Search 2016-09-02  3696906537737368442  1472856874            1   \n2991  Organic Search 2016-09-02  5688512451361930466  1472811524            1   \n2992  Organic Search 2016-09-02  9716453263501147451  1472823508            1   \n2993  Organic Search 2016-09-02  5330453591145100432  1472839619            1   \n\n      visitStartTime device_browser device_deviceCategory  device_isMobile  \\\n2989      1472812272        Firefox               desktop            False   \n2990      1472856874         Chrome               desktop            False   \n2991      1472811524         Chrome               desktop            False   \n2992      1472823508         Safari                mobile             True   \n2993      1472839619         Chrome               desktop            False   \n\n     device_operatingSystem                geoNetwork_city  \\\n2989                Windows  not available in demo dataset   \n2990                Windows                   Buenos Aires   \n2991                  Linux                      Bengaluru   \n2992                    iOS                      New Delhi   \n2993                Windows                      Sao Paulo   \n\n     geoNetwork_continent geoNetwork_country               geoNetwork_metro  \\\n2989               Europe        Netherlands  not available in demo dataset   \n2990             Americas          Argentina                      (not set)   \n2991                 Asia              India                      (not set)   \n2992                 Asia              India                      (not set)   \n2993             Americas             Brazil                      (not set)   \n\n     geoNetwork_networkDomain              geoNetwork_region  \\\n2989                chello.nl  not available in demo dataset   \n2990       phonevision.com.ar                   Buenos Aires   \n2991                 acttv.in                      Karnataka   \n2992          unknown.unknown                          Delhi   \n2993   teleperformance.com.br             State of Sao Paulo   \n\n     geoNetwork_subContinent totals_bounces totals_hits totals_newVisits  \\\n2989          Western Europe              1           1                1   \n2990           South America              1           1                1   \n2991           Southern Asia              1           1                1   \n2992           Southern Asia              1           1                1   \n2993           South America              1           1                1   \n\n     totals_pageviews totals_sessionQualityDim totals_timeOnSite  \\\n2989                1                      NaN               NaN   \n2990                1                      NaN               NaN   \n2991                1                      NaN               NaN   \n2992                1                      NaN               NaN   \n2993                1                      NaN               NaN   \n\n     totals_totalTransactionRevenue totals_transactionRevenue  \\\n2989                            NaN                       NaN   \n2990                            NaN                       NaN   \n2991                            NaN                       NaN   \n2992                            NaN                       NaN   \n2993                            NaN                       NaN   \n\n     totals_transactions trafficSource_adContent  \\\n2989                 NaN                     NaN   \n2990                 NaN                     NaN   \n2991                 NaN                     NaN   \n2992                 NaN                     NaN   \n2993                 NaN                     NaN   \n\n     trafficSource_adwordsClickInfo.adNetworkType  \\\n2989                                          NaN   \n2990                                          NaN   \n2991                                          NaN   \n2992                                          NaN   \n2993                                          NaN   \n\n     trafficSource_adwordsClickInfo.gclId  \\\n2989                                  NaN   \n2990                                  NaN   \n2991                                  NaN   \n2992                                  NaN   \n2993                                  NaN   \n\n     trafficSource_adwordsClickInfo.isVideoAd  \\\n2989                                      NaN   \n2990                                      NaN   \n2991                                      NaN   \n2992                                      NaN   \n2993                                      NaN   \n\n     trafficSource_adwordsClickInfo.page trafficSource_adwordsClickInfo.slot  \\\n2989                                 NaN                                 NaN   \n2990                                 NaN                                 NaN   \n2991                                 NaN                                 NaN   \n2992                                 NaN                                 NaN   \n2993                                 NaN                                 NaN   \n\n     trafficSource_campaign trafficSource_isTrueDirect trafficSource_keyword  \\\n2989              (not set)                        NaN        (not provided)   \n2990              (not set)                        NaN        (not provided)   \n2991              (not set)                        NaN        (not provided)   \n2992              (not set)                        NaN        (not provided)   \n2993              (not set)                        NaN        (not provided)   \n\n     trafficSource_medium trafficSource_referralPath trafficSource_source  \\\n2989              organic                        NaN               google   \n2990              organic                        NaN               google   \n2991              organic                        NaN               google   \n2992              organic                        NaN               google   \n2993              organic                        NaN               google   \n\n     customDimensions_value  \n2989                   EMEA  \n2990          South America  \n2991                   APAC  \n2992                   APAC  \n2993          South America  ",
            "text/html": "<div>\n<style scoped>\n    .dataframe tbody tr th:only-of-type {\n        vertical-align: middle;\n    }\n\n    .dataframe tbody tr th {\n        vertical-align: top;\n    }\n\n    .dataframe thead th {\n        text-align: right;\n    }\n</style>\n<table border=\"1\" class=\"dataframe\">\n  <thead>\n    <tr style=\"text-align: right;\">\n      <th></th>\n      <th>channelGrouping</th>\n      <th>date</th>\n      <th>fullVisitorId</th>\n      <th>visitId</th>\n      <th>visitNumber</th>\n      <th>visitStartTime</th>\n      <th>device_browser</th>\n      <th>device_deviceCategory</th>\n      <th>device_isMobile</th>\n      <th>device_operatingSystem</th>\n      <th>geoNetwork_city</th>\n      <th>geoNetwork_continent</th>\n      <th>geoNetwork_country</th>\n      <th>geoNetwork_metro</th>\n      <th>geoNetwork_networkDomain</th>\n      <th>geoNetwork_region</th>\n      <th>geoNetwork_subContinent</th>\n      <th>totals_bounces</th>\n      <th>totals_hits</th>\n      <th>totals_newVisits</th>\n      <th>totals_pageviews</th>\n      <th>totals_sessionQualityDim</th>\n      <th>totals_timeOnSite</th>\n      <th>totals_totalTransactionRevenue</th>\n      <th>totals_transactionRevenue</th>\n      <th>totals_transactions</th>\n      <th>trafficSource_adContent</th>\n      <th>trafficSource_adwordsClickInfo.adNetworkType</th>\n      <th>trafficSource_adwordsClickInfo.gclId</th>\n      <th>trafficSource_adwordsClickInfo.isVideoAd</th>\n      <th>trafficSource_adwordsClickInfo.page</th>\n      <th>trafficSource_adwordsClickInfo.slot</th>\n      <th>trafficSource_campaign</th>\n      <th>trafficSource_isTrueDirect</th>\n      <th>trafficSource_keyword</th>\n      <th>trafficSource_medium</th>\n      <th>trafficSource_referralPath</th>\n      <th>trafficSource_source</th>\n      <th>customDimensions_value</th>\n    </tr>\n  </thead>\n  <tbody>\n    <tr>\n      <th>2989</th>\n      <td>Organic Search</td>\n      <td>2016-09-02</td>\n      <td>9499785259412240342</td>\n      <td>1472812272</td>\n      <td>1</td>\n      <td>1472812272</td>\n      <td>Firefox</td>\n      <td>desktop</td>\n      <td>False</td>\n      <td>Windows</td>\n      <td>not available in demo dataset</td>\n      <td>Europe</td>\n      <td>Netherlands</td>\n      <td>not available in demo dataset</td>\n      <td>chello.nl</td>\n      <td>not available in demo dataset</td>\n      <td>Western Europe</td>\n      <td>1</td>\n      <td>1</td>\n      <td>1</td>\n      <td>1</td>\n      <td>NaN</td>\n      <td>NaN</td>\n      <td>NaN</td>\n      <td>NaN</td>\n      <td>NaN</td>\n      <td>NaN</td>\n      <td>NaN</td>\n      <td>NaN</td>\n      <td>NaN</td>\n      <td>NaN</td>\n      <td>NaN</td>\n      <td>(not set)</td>\n      <td>NaN</td>\n      <td>(not provided)</td>\n      <td>organic</td>\n      <td>NaN</td>\n      <td>google</td>\n      <td>EMEA</td>\n    </tr>\n    <tr>\n      <th>2990</th>\n      <td>Organic Search</td>\n      <td>2016-09-02</td>\n      <td>3696906537737368442</td>\n      <td>1472856874</td>\n      <td>1</td>\n      <td>1472856874</td>\n      <td>Chrome</td>\n      <td>desktop</td>\n      <td>False</td>\n      <td>Windows</td>\n      <td>Buenos Aires</td>\n      <td>Americas</td>\n      <td>Argentina</td>\n      <td>(not set)</td>\n      <td>phonevision.com.ar</td>\n      <td>Buenos Aires</td>\n      <td>South America</td>\n      <td>1</td>\n      <td>1</td>\n      <td>1</td>\n      <td>1</td>\n      <td>NaN</td>\n      <td>NaN</td>\n      <td>NaN</td>\n      <td>NaN</td>\n      <td>NaN</td>\n      <td>NaN</td>\n      <td>NaN</td>\n      <td>NaN</td>\n      <td>NaN</td>\n      <td>NaN</td>\n      <td>NaN</td>\n      <td>(not set)</td>\n      <td>NaN</td>\n      <td>(not provided)</td>\n      <td>organic</td>\n      <td>NaN</td>\n      <td>google</td>\n      <td>South America</td>\n    </tr>\n    <tr>\n      <th>2991</th>\n      <td>Organic Search</td>\n      <td>2016-09-02</td>\n      <td>5688512451361930466</td>\n      <td>1472811524</td>\n      <td>1</td>\n      <td>1472811524</td>\n      <td>Chrome</td>\n      <td>desktop</td>\n      <td>False</td>\n      <td>Linux</td>\n      <td>Bengaluru</td>\n      <td>Asia</td>\n      <td>India</td>\n      <td>(not set)</td>\n      <td>acttv.in</td>\n      <td>Karnataka</td>\n      <td>Southern Asia</td>\n      <td>1</td>\n      <td>1</td>\n      <td>1</td>\n      <td>1</td>\n      <td>NaN</td>\n      <td>NaN</td>\n      <td>NaN</td>\n      <td>NaN</td>\n      <td>NaN</td>\n      <td>NaN</td>\n      <td>NaN</td>\n      <td>NaN</td>\n      <td>NaN</td>\n      <td>NaN</td>\n      <td>NaN</td>\n      <td>(not set)</td>\n      <td>NaN</td>\n      <td>(not provided)</td>\n      <td>organic</td>\n      <td>NaN</td>\n      <td>google</td>\n      <td>APAC</td>\n    </tr>\n    <tr>\n      <th>2992</th>\n      <td>Organic Search</td>\n      <td>2016-09-02</td>\n      <td>9716453263501147451</td>\n      <td>1472823508</td>\n      <td>1</td>\n      <td>1472823508</td>\n      <td>Safari</td>\n      <td>mobile</td>\n      <td>True</td>\n      <td>iOS</td>\n      <td>New Delhi</td>\n      <td>Asia</td>\n      <td>India</td>\n      <td>(not set)</td>\n      <td>unknown.unknown</td>\n      <td>Delhi</td>\n      <td>Southern Asia</td>\n      <td>1</td>\n      <td>1</td>\n      <td>1</td>\n      <td>1</td>\n      <td>NaN</td>\n      <td>NaN</td>\n      <td>NaN</td>\n      <td>NaN</td>\n      <td>NaN</td>\n      <td>NaN</td>\n      <td>NaN</td>\n      <td>NaN</td>\n      <td>NaN</td>\n      <td>NaN</td>\n      <td>NaN</td>\n      <td>(not set)</td>\n      <td>NaN</td>\n      <td>(not provided)</td>\n      <td>organic</td>\n      <td>NaN</td>\n      <td>google</td>\n      <td>APAC</td>\n    </tr>\n    <tr>\n      <th>2993</th>\n      <td>Organic Search</td>\n      <td>2016-09-02</td>\n      <td>5330453591145100432</td>\n      <td>1472839619</td>\n      <td>1</td>\n      <td>1472839619</td>\n      <td>Chrome</td>\n      <td>desktop</td>\n      <td>False</td>\n      <td>Windows</td>\n      <td>Sao Paulo</td>\n      <td>Americas</td>\n      <td>Brazil</td>\n      <td>(not set)</td>\n      <td>teleperformance.com.br</td>\n      <td>State of Sao Paulo</td>\n      <td>South America</td>\n      <td>1</td>\n      <td>1</td>\n      <td>1</td>\n      <td>1</td>\n      <td>NaN</td>\n      <td>NaN</td>\n      <td>NaN</td>\n      <td>NaN</td>\n      <td>NaN</td>\n      <td>NaN</td>\n      <td>NaN</td>\n      <td>NaN</td>\n      <td>NaN</td>\n      <td>NaN</td>\n      <td>NaN</td>\n      <td>(not set)</td>\n      <td>NaN</td>\n      <td>(not provided)</td>\n      <td>organic</td>\n      <td>NaN</td>\n      <td>google</td>\n      <td>South America</td>\n    </tr>\n  </tbody>\n</table>\n</div>"
          },
          "metadata": {}
        }
      ]
    },
    {
      "metadata": {
        "trusted": true,
        "_uuid": "000034d0f0201e550f3f810a7de098c9d3e2541d"
      },
      "cell_type": "code",
      "source": "pre_set[\"totals_transactionRevenue\"] = train_df[\"totals_transactionRevenue\"].astype('float')\ngdf = pre_set.groupby(\"fullVisitorId\")[\"totals_transactionRevenue\"].sum().reset_index()\n\nplt.figure(figsize=(8,6))\nplt.scatter(range(gdf.shape[0]), np.sort(np.log1p(gdf[\"totals_transactionRevenue\"].values)))\nplt.xlabel('index', fontsize=12)\nplt.ylabel('TransactionRevenue', fontsize=12)\nplt.show()",
      "execution_count": 12,
      "outputs": [
        {
          "output_type": "display_data",
          "data": {
            "text/plain": "<Figure size 576x432 with 1 Axes>",
            "image/png": "[encoded data removed]"
          },
          "metadata": {}
        }
      ]
    },
    {
      "metadata": {
        "_uuid": "59e2c0fe57d926b06aa21d7436e72329ca719bf1"
      },
      "cell_type": "markdown",
      "source": "# Change data type and fill missing data."
    },
    {
      "metadata": {
        "trusted": true,
        "_uuid": "0a0564710ad660697364651879036bea4f3522e7"
      },
      "cell_type": "code",
      "source": "# Impute 0 for missing target values\npre_set[\"totals_transactionRevenue\"] = pre_set[\"totals_transactionRevenue\"].fillna(0).astype(float)\ntrain_set[\"totals_transactionRevenue\"] = train_set[\"totals_transactionRevenue\"].fillna(0).astype(float)\nval_set[\"totals_transactionRevenue\"] = val_set[\"totals_transactionRevenue\"].fillna(0).astype(float)\ntest_set[\"totals_transactionRevenue\"] = test_set[\"totals_transactionRevenue\"].fillna(0).astype(float)\n\npre_y = pre_set[\"totals_transactionRevenue\"].values\ntrain_y = train_set[\"totals_transactionRevenue\"].values\nval_y = val_set[\"totals_transactionRevenue\"].values\ntest_y = test_set[\"totals_transactionRevenue\"].values\n\npre_id = pre_set[\"fullVisitorId\"].values\ntrain_id = train_set[\"fullVisitorId\"].values\nval_id = val_set[\"fullVisitorId\"].values\ntest_id = test_set[\"fullVisitorId\"].values",
      "execution_count": 13,
      "outputs": []
    },
    {
      "metadata": {
        "trusted": true,
        "_uuid": "7f772018cc00735806c098b80e5cd0e1b59844f2"
      },
      "cell_type": "code",
      "source": "# label encode the categorical variables and convert the numerical variables to float\ncat_cols = [\"channelGrouping\", \"device_browser\", \n            \"device_deviceCategory\", \"device_operatingSystem\", \n            \"geoNetwork_city\", \"geoNetwork_continent\", \n            \"geoNetwork_country\", \"geoNetwork_metro\",\n            \"geoNetwork_networkDomain\", \"geoNetwork_region\", \n            \"geoNetwork_subContinent\", \"trafficSource_adContent\", \n            \"trafficSource_adwordsClickInfo.adNetworkType\", \n            \"trafficSource_adwordsClickInfo.gclId\", \n            \"trafficSource_adwordsClickInfo.page\", \n            \"trafficSource_adwordsClickInfo.slot\", \"trafficSource_campaign\",\n            \"trafficSource_keyword\", \"trafficSource_medium\", \n            \"trafficSource_source\",'trafficSource_adwordsClickInfo.isVideoAd', 'trafficSource_isTrueDirect']\nfor col in cat_cols:\n    print(col)\n    lbl = sklearn.preprocessing.LabelEncoder()\n    lbl.fit(list(pre_set[col].values.astype('str')) + list(train_set[col].values.astype('str')) + list(val_set[col].values.astype('str')) + list(test_set[col].values.astype('str')))\n    pre_set[col] = lbl.transform(list(pre_set[col].values.astype('str')))\n    train_set[col] = lbl.transform(list(train_set[col].values.astype('str')))\n    val_set[col] = lbl.transform(list(val_set[col].values.astype('str')))\n    test_set[col] = lbl.transform(list(test_set[col].values.astype('str')))",
      "execution_count": 14,
      "outputs": [
        {
          "output_type": "stream",
          "text": "channelGrouping\ndevice_browser\ndevice_deviceCategory\ndevice_operatingSystem\ngeoNetwork_city\ngeoNetwork_continent\ngeoNetwork_country\ngeoNetwork_metro\ngeoNetwork_networkDomain\ngeoNetwork_region\ngeoNetwork_subContinent\ntrafficSource_adContent\ntrafficSource_adwordsClickInfo.adNetworkType\ntrafficSource_adwordsClickInfo.gclId\ntrafficSource_adwordsClickInfo.page\ntrafficSource_adwordsClickInfo.slot\ntrafficSource_campaign\ntrafficSource_keyword\ntrafficSource_medium\ntrafficSource_source\ntrafficSource_adwordsClickInfo.isVideoAd\ntrafficSource_isTrueDirect\n",
          "name": "stdout"
        }
      ]
    },
    {
      "metadata": {
        "trusted": true,
        "_uuid": "1562d63a62b6ad5347b10892e8f4c21d5c2114f2"
      },
      "cell_type": "code",
      "source": "num_cols = [\"totals_hits\", \"totals_pageviews\",\"visitStartTime\", \"visitNumber\", 'totals_bounces',  'totals_newVisits']    \nfor col in num_cols:\n    pre_set[col] = pre_set[col].fillna(0).astype(float)\n    train_set[col] = train_set[col].fillna(0).astype(float)\n    val_set[col] = val_set[col].fillna(0).astype(float)\n    test_set[col] = test_set[col].fillna(0).astype(float)",
      "execution_count": 15,
      "outputs": []
    },
    {
      "metadata": {
        "trusted": true,
        "_uuid": "02500cb0cd6544c7b02874bf7c533ccea659bba8"
      },
      "cell_type": "code",
      "source": "pre_set.head()",
      "execution_count": 16,
      "outputs": [
        {
          "output_type": "execute_result",
          "execution_count": 16,
          "data": {
            "text/plain": "      channelGrouping       date        fullVisitorId     visitId  \\\n2989                4 2016-09-02  9499785259412240342  1472812272   \n2990                4 2016-09-02  3696906537737368442  1472856874   \n2991                4 2016-09-02  5688512451361930466  1472811524   \n2992                4 2016-09-02  9716453263501147451  1472823508   \n2993                4 2016-09-02  5330453591145100432  1472839619   \n\n      visitNumber  visitStartTime  device_browser  device_deviceCategory  \\\n2989          1.0    1.472812e+09              64                      0   \n2990          1.0    1.472857e+09              55                      0   \n2991          1.0    1.472812e+09              55                      0   \n2992          1.0    1.472824e+09             102                      1   \n2993          1.0    1.472840e+09              55                      0   \n\n      device_isMobile  device_operatingSystem  geoNetwork_city  \\\n2989            False                      22             1096   \n2990            False                      22              157   \n2991            False                       6              108   \n2992             True                      25              660   \n2993            False                      22              886   \n\n      geoNetwork_continent  geoNetwork_country  geoNetwork_metro  \\\n2989                     4                 144               129   \n2990                     2                   9                 0   \n2991                     3                  93                 0   \n2992                     3                  93                 0   \n2993                     2                  28                 0   \n\n      geoNetwork_networkDomain  geoNetwork_region  geoNetwork_subContinent  \\\n2989                      7726                517                       22   \n2990                     32822                 68                       15   \n2991                       906                221                       18   \n2992                     44691                126                       18   \n2993                     41583                444                       15   \n\n      totals_bounces  totals_hits  totals_newVisits  totals_pageviews  \\\n2989             1.0          1.0               1.0               1.0   \n2990             1.0          1.0               1.0               1.0   \n2991             1.0          1.0               1.0               1.0   \n2992             1.0          1.0               1.0               1.0   \n2993             1.0          1.0               1.0               1.0   \n\n     totals_sessionQualityDim totals_timeOnSite  \\\n2989                      NaN               NaN   \n2990                      NaN               NaN   \n2991                      NaN               NaN   \n2992                      NaN               NaN   \n2993                      NaN               NaN   \n\n     totals_totalTransactionRevenue  totals_transactionRevenue  \\\n2989                            NaN                        0.0   \n2990                            NaN                        0.0   \n2991                            NaN                        0.0   \n2992                            NaN                        0.0   \n2993                            NaN                        0.0   \n\n     totals_transactions  trafficSource_adContent  \\\n2989                 NaN                       86   \n2990                 NaN                       86   \n2991                 NaN                       86   \n2992                 NaN                       86   \n2993                 NaN                       86   \n\n      trafficSource_adwordsClickInfo.adNetworkType  \\\n2989                                             3   \n2990                                             3   \n2991                                             3   \n2992                                             3   \n2993                                             3   \n\n      trafficSource_adwordsClickInfo.gclId  \\\n2989                                 67994   \n2990                                 67994   \n2991                                 67994   \n2992                                 67994   \n2993                                 67994   \n\n      trafficSource_adwordsClickInfo.isVideoAd  \\\n2989                                         1   \n2990                                         1   \n2991                                         1   \n2992                                         1   \n2993                                         1   \n\n      trafficSource_adwordsClickInfo.page  \\\n2989                                   11   \n2990                                   11   \n2991                                   11   \n2992                                   11   \n2993                                   11   \n\n      trafficSource_adwordsClickInfo.slot  trafficSource_campaign  \\\n2989                                    5                       4   \n2990                                    5                       4   \n2991                                    5                       4   \n2992                                    5                       4   \n2993                                    5                       4   \n\n      trafficSource_isTrueDirect  trafficSource_keyword  trafficSource_medium  \\\n2989                           1                      8                     5   \n2990                           1                      8                     5   \n2991                           1                      8                     5   \n2992                           1                      8                     5   \n2993                           1                      8                     5   \n\n     trafficSource_referralPath  trafficSource_source customDimensions_value  \n2989                        NaN                   117                   EMEA  \n2990                        NaN                   117          South America  \n2991                        NaN                   117                   APAC  \n2992                        NaN                   117                   APAC  \n2993                        NaN                   117          South America  ",
            "text/html": "<div>\n<style scoped>\n    .dataframe tbody tr th:only-of-type {\n        vertical-align: middle;\n    }\n\n    .dataframe tbody tr th {\n        vertical-align: top;\n    }\n\n    .dataframe thead th {\n        text-align: right;\n    }\n</style>\n<table border=\"1\" class=\"dataframe\">\n  <thead>\n    <tr style=\"text-align: right;\">\n      <th></th>\n      <th>channelGrouping</th>\n      <th>date</th>\n      <th>fullVisitorId</th>\n      <th>visitId</th>\n      <th>visitNumber</th>\n      <th>visitStartTime</th>\n      <th>device_browser</th>\n      <th>device_deviceCategory</th>\n      <th>device_isMobile</th>\n      <th>device_operatingSystem</th>\n      <th>geoNetwork_city</th>\n      <th>geoNetwork_continent</th>\n      <th>geoNetwork_country</th>\n      <th>geoNetwork_metro</th>\n      <th>geoNetwork_networkDomain</th>\n      <th>geoNetwork_region</th>\n      <th>geoNetwork_subContinent</th>\n      <th>totals_bounces</th>\n      <th>totals_hits</th>\n      <th>totals_newVisits</th>\n      <th>totals_pageviews</th>\n      <th>totals_sessionQualityDim</th>\n      <th>totals_timeOnSite</th>\n      <th>totals_totalTransactionRevenue</th>\n      <th>totals_transactionRevenue</th>\n      <th>totals_transactions</th>\n      <th>trafficSource_adContent</th>\n      <th>trafficSource_adwordsClickInfo.adNetworkType</th>\n      <th>trafficSource_adwordsClickInfo.gclId</th>\n      <th>trafficSource_adwordsClickInfo.isVideoAd</th>\n      <th>trafficSource_adwordsClickInfo.page</th>\n      <th>trafficSource_adwordsClickInfo.slot</th>\n      <th>trafficSource_campaign</th>\n      <th>trafficSource_isTrueDirect</th>\n      <th>trafficSource_keyword</th>\n      <th>trafficSource_medium</th>\n      <th>trafficSource_referralPath</th>\n      <th>trafficSource_source</th>\n      <th>customDimensions_value</th>\n    </tr>\n  </thead>\n  <tbody>\n    <tr>\n      <th>2989</th>\n      <td>4</td>\n      <td>2016-09-02</td>\n      <td>9499785259412240342</td>\n      <td>1472812272</td>\n      <td>1.0</td>\n      <td>1.472812e+09</td>\n      <td>64</td>\n      <td>0</td>\n      <td>False</td>\n      <td>22</td>\n      <td>1096</td>\n      <td>4</td>\n      <td>144</td>\n      <td>129</td>\n      <td>7726</td>\n      <td>517</td>\n      <td>22</td>\n      <td>1.0</td>\n      <td>1.0</td>\n      <td>1.0</td>\n      <td>1.0</td>\n      <td>NaN</td>\n      <td>NaN</td>\n      <td>NaN</td>\n      <td>0.0</td>\n      <td>NaN</td>\n      <td>86</td>\n      <td>3</td>\n      <td>67994</td>\n      <td>1</td>\n      <td>11</td>\n      <td>5</td>\n      <td>4</td>\n      <td>1</td>\n      <td>8</td>\n      <td>5</td>\n      <td>NaN</td>\n      <td>117</td>\n      <td>EMEA</td>\n    </tr>\n    <tr>\n      <th>2990</th>\n      <td>4</td>\n      <td>2016-09-02</td>\n      <td>3696906537737368442</td>\n      <td>1472856874</td>\n      <td>1.0</td>\n      <td>1.472857e+09</td>\n      <td>55</td>\n      <td>0</td>\n      <td>False</td>\n      <td>22</td>\n      <td>157</td>\n      <td>2</td>\n      <td>9</td>\n      <td>0</td>\n      <td>32822</td>\n      <td>68</td>\n      <td>15</td>\n      <td>1.0</td>\n      <td>1.0</td>\n      <td>1.0</td>\n      <td>1.0</td>\n      <td>NaN</td>\n      <td>NaN</td>\n      <td>NaN</td>\n      <td>0.0</td>\n      <td>NaN</td>\n      <td>86</td>\n      <td>3</td>\n      <td>67994</td>\n      <td>1</td>\n      <td>11</td>\n      <td>5</td>\n      <td>4</td>\n      <td>1</td>\n      <td>8</td>\n      <td>5</td>\n      <td>NaN</td>\n      <td>117</td>\n      <td>South America</td>\n    </tr>\n    <tr>\n      <th>2991</th>\n      <td>4</td>\n      <td>2016-09-02</td>\n      <td>5688512451361930466</td>\n      <td>1472811524</td>\n      <td>1.0</td>\n      <td>1.472812e+09</td>\n      <td>55</td>\n      <td>0</td>\n      <td>False</td>\n      <td>6</td>\n      <td>108</td>\n      <td>3</td>\n      <td>93</td>\n      <td>0</td>\n      <td>906</td>\n      <td>221</td>\n      <td>18</td>\n      <td>1.0</td>\n      <td>1.0</td>\n      <td>1.0</td>\n      <td>1.0</td>\n      <td>NaN</td>\n      <td>NaN</td>\n      <td>NaN</td>\n      <td>0.0</td>\n      <td>NaN</td>\n      <td>86</td>\n      <td>3</td>\n      <td>67994</td>\n      <td>1</td>\n      <td>11</td>\n      <td>5</td>\n      <td>4</td>\n      <td>1</td>\n      <td>8</td>\n      <td>5</td>\n      <td>NaN</td>\n      <td>117</td>\n      <td>APAC</td>\n    </tr>\n    <tr>\n      <th>2992</th>\n      <td>4</td>\n      <td>2016-09-02</td>\n      <td>9716453263501147451</td>\n      <td>1472823508</td>\n      <td>1.0</td>\n      <td>1.472824e+09</td>\n      <td>102</td>\n      <td>1</td>\n      <td>True</td>\n      <td>25</td>\n      <td>660</td>\n      <td>3</td>\n      <td>93</td>\n      <td>0</td>\n      <td>44691</td>\n      <td>126</td>\n      <td>18</td>\n      <td>1.0</td>\n      <td>1.0</td>\n      <td>1.0</td>\n      <td>1.0</td>\n      <td>NaN</td>\n      <td>NaN</td>\n      <td>NaN</td>\n      <td>0.0</td>\n      <td>NaN</td>\n      <td>86</td>\n      <td>3</td>\n      <td>67994</td>\n      <td>1</td>\n      <td>11</td>\n      <td>5</td>\n      <td>4</td>\n      <td>1</td>\n      <td>8</td>\n      <td>5</td>\n      <td>NaN</td>\n      <td>117</td>\n      <td>APAC</td>\n    </tr>\n    <tr>\n      <th>2993</th>\n      <td>4</td>\n      <td>2016-09-02</td>\n      <td>5330453591145100432</td>\n      <td>1472839619</td>\n      <td>1.0</td>\n      <td>1.472840e+09</td>\n      <td>55</td>\n      <td>0</td>\n      <td>False</td>\n      <td>22</td>\n      <td>886</td>\n      <td>2</td>\n      <td>28</td>\n      <td>0</td>\n      <td>41583</td>\n      <td>444</td>\n      <td>15</td>\n      <td>1.0</td>\n      <td>1.0</td>\n      <td>1.0</td>\n      <td>1.0</td>\n      <td>NaN</td>\n      <td>NaN</td>\n      <td>NaN</td>\n      <td>0.0</td>\n      <td>NaN</td>\n      <td>86</td>\n      <td>3</td>\n      <td>67994</td>\n      <td>1</td>\n      <td>11</td>\n      <td>5</td>\n      <td>4</td>\n      <td>1</td>\n      <td>8</td>\n      <td>5</td>\n      <td>NaN</td>\n      <td>117</td>\n      <td>South America</td>\n    </tr>\n  </tbody>\n</table>\n</div>"
          },
          "metadata": {}
        }
      ]
    },
    {
      "metadata": {
        "trusted": true,
        "_uuid": "dbb154a21a41e45c5d3cb79ce3ce45365587f9f4"
      },
      "cell_type": "code",
      "source": "pre_set.corr()[\"totals_transactionRevenue\"].sort_values(ascending=False)",
      "execution_count": 17,
      "outputs": [
        {
          "output_type": "execute_result",
          "execution_count": 17,
          "data": {
            "text/plain": "totals_transactionRevenue                       1.000000\ntotals_pageviews                                0.164504\ntotals_hits                                     0.160285\ngeoNetwork_country                              0.023648\nvisitNumber                                     0.007954\ntrafficSource_keyword                           0.006257\ntrafficSource_adContent                         0.001633\nvisitStartTime                                 -0.000714\nvisitId                                        -0.000714\ngeoNetwork_metro                               -0.001401\ntrafficSource_adwordsClickInfo.slot            -0.002226\ntrafficSource_adwordsClickInfo.adNetworkType   -0.002414\ntrafficSource_adwordsClickInfo.isVideoAd       -0.002414\ntrafficSource_adwordsClickInfo.page            -0.002424\ntrafficSource_adwordsClickInfo.gclId           -0.002942\ntrafficSource_campaign                         -0.004538\ngeoNetwork_region                              -0.008035\nchannelGrouping                                -0.008358\ngeoNetwork_city                                -0.008715\ngeoNetwork_subContinent                        -0.009551\ndevice_operatingSystem                         -0.013946\ndevice_deviceCategory                          -0.014232\ndevice_isMobile                                -0.015447\ndevice_browser                                 -0.018925\ngeoNetwork_networkDomain                       -0.025497\ngeoNetwork_continent                           -0.026436\ntrafficSource_source                           -0.031448\ntrafficSource_isTrueDirect                     -0.034195\ntotals_bounces                                 -0.035291\ntrafficSource_medium                           -0.037170\ntotals_newVisits                               -0.046660\nName: totals_transactionRevenue, dtype: float64"
          },
          "metadata": {}
        }
      ]
    },
    {
      "metadata": {
        "_uuid": "e829ef3e22d352e182cd5ccf182ffe7fb268330e"
      },
      "cell_type": "markdown",
      "source": "## Choosing a subset of features."
    },
    {
      "metadata": {
        "trusted": true,
        "_uuid": "fc447db45768dbdce62346a43223f12c1838a7cd"
      },
      "cell_type": "code",
      "source": "train_x = train_set[cat_cols + num_cols] \nval_x = val_set[cat_cols + num_cols] \ntest_x = test_set[cat_cols + num_cols] ",
      "execution_count": 18,
      "outputs": []
    },
    {
      "metadata": {
        "trusted": true,
        "_uuid": "60f3dd2606edf4507f087a8fd8cc7ffabe66cc3d"
      },
      "cell_type": "code",
      "source": "train_x.head()",
      "execution_count": 19,
      "outputs": [
        {
          "output_type": "execute_result",
          "execution_count": 19,
          "data": {
            "text/plain": "   channelGrouping  device_browser  device_deviceCategory  \\\n0                4              64                      0   \n1                6              55                      0   \n2                2              55                      1   \n3                4              55                      0   \n4                4              55                      0   \n\n   device_operatingSystem  geoNetwork_city  geoNetwork_continent  \\\n0                      22             1096                     4   \n1                       3              256                     2   \n2                       1             1096                     2   \n3                      22             1096                     3   \n4                      22             1096                     2   \n\n   geoNetwork_country  geoNetwork_metro  geoNetwork_networkDomain  \\\n0                  75               129                         0   \n1                 219               104                         0   \n2                 219               129                     47195   \n3                 211               129                     44691   \n4                 132               129                     33811   \n\n   geoNetwork_region  geoNetwork_subContinent  trafficSource_adContent  \\\n0                517                       22                       86   \n1                 74                       12                       86   \n2                517                       12                       86   \n3                517                       21                       86   \n4                517                        3                       86   \n\n   trafficSource_adwordsClickInfo.adNetworkType  \\\n0                                             3   \n1                                             3   \n2                                             3   \n3                                             3   \n4                                             3   \n\n   trafficSource_adwordsClickInfo.gclId  trafficSource_adwordsClickInfo.page  \\\n0                                 67994                                   11   \n1                                 67994                                   11   \n2                                 67994                                   11   \n3                                 67994                                   11   \n4                                 67994                                   11   \n\n   trafficSource_adwordsClickInfo.slot  trafficSource_campaign  \\\n0                                    5                       4   \n1                                    5                       4   \n2                                    5                       4   \n3                                    5                       4   \n4                                    5                       4   \n\n   trafficSource_keyword  trafficSource_medium  trafficSource_source  \\\n0                   3761                     5                   117   \n1                   3086                     6                   339   \n2                   3086                     0                     0   \n3                      8                     5                   117   \n4                      8                     5                   117   \n\n   trafficSource_adwordsClickInfo.isVideoAd  trafficSource_isTrueDirect  \\\n0                                         1                           1   \n1                                         1                           1   \n2                                         1                           0   \n3                                         1                           1   \n4                                         1                           1   \n\n   totals_hits  totals_pageviews  visitStartTime  visitNumber  totals_bounces  \\\n0          1.0               1.0    1.508198e+09          1.0             1.0   \n1          2.0               2.0    1.508176e+09          6.0             0.0   \n2          2.0               2.0    1.508202e+09          1.0             0.0   \n3          2.0               2.0    1.508170e+09          1.0             0.0   \n4          2.0               2.0    1.508191e+09          1.0             0.0   \n\n   totals_newVisits  \n0               1.0  \n1               0.0  \n2               1.0  \n3               1.0  \n4               1.0  ",
            "text/html": "<div>\n<style scoped>\n    .dataframe tbody tr th:only-of-type {\n        vertical-align: middle;\n    }\n\n    .dataframe tbody tr th {\n        vertical-align: top;\n    }\n\n    .dataframe thead th {\n        text-align: right;\n    }\n</style>\n<table border=\"1\" class=\"dataframe\">\n  <thead>\n    <tr style=\"text-align: right;\">\n      <th></th>\n      <th>channelGrouping</th>\n      <th>device_browser</th>\n      <th>device_deviceCategory</th>\n      <th>device_operatingSystem</th>\n      <th>geoNetwork_city</th>\n      <th>geoNetwork_continent</th>\n      <th>geoNetwork_country</th>\n      <th>geoNetwork_metro</th>\n      <th>geoNetwork_networkDomain</th>\n      <th>geoNetwork_region</th>\n      <th>geoNetwork_subContinent</th>\n      <th>trafficSource_adContent</th>\n      <th>trafficSource_adwordsClickInfo.adNetworkType</th>\n      <th>trafficSource_adwordsClickInfo.gclId</th>\n      <th>trafficSource_adwordsClickInfo.page</th>\n      <th>trafficSource_adwordsClickInfo.slot</th>\n      <th>trafficSource_campaign</th>\n      <th>trafficSource_keyword</th>\n      <th>trafficSource_medium</th>\n      <th>trafficSource_source</th>\n      <th>trafficSource_adwordsClickInfo.isVideoAd</th>\n      <th>trafficSource_isTrueDirect</th>\n      <th>totals_hits</th>\n      <th>totals_pageviews</th>\n      <th>visitStartTime</th>\n      <th>visitNumber</th>\n      <th>totals_bounces</th>\n      <th>totals_newVisits</th>\n    </tr>\n  </thead>\n  <tbody>\n    <tr>\n      <th>0</th>\n      <td>4</td>\n      <td>64</td>\n      <td>0</td>\n      <td>22</td>\n      <td>1096</td>\n      <td>4</td>\n      <td>75</td>\n      <td>129</td>\n      <td>0</td>\n      <td>517</td>\n      <td>22</td>\n      <td>86</td>\n      <td>3</td>\n      <td>67994</td>\n      <td>11</td>\n      <td>5</td>\n      <td>4</td>\n      <td>3761</td>\n      <td>5</td>\n      <td>117</td>\n      <td>1</td>\n      <td>1</td>\n      <td>1.0</td>\n      <td>1.0</td>\n      <td>1.508198e+09</td>\n      <td>1.0</td>\n      <td>1.0</td>\n      <td>1.0</td>\n    </tr>\n    <tr>\n      <th>1</th>\n      <td>6</td>\n      <td>55</td>\n      <td>0</td>\n      <td>3</td>\n      <td>256</td>\n      <td>2</td>\n      <td>219</td>\n      <td>104</td>\n      <td>0</td>\n      <td>74</td>\n      <td>12</td>\n      <td>86</td>\n      <td>3</td>\n      <td>67994</td>\n      <td>11</td>\n      <td>5</td>\n      <td>4</td>\n      <td>3086</td>\n      <td>6</td>\n      <td>339</td>\n      <td>1</td>\n      <td>1</td>\n      <td>2.0</td>\n      <td>2.0</td>\n      <td>1.508176e+09</td>\n      <td>6.0</td>\n      <td>0.0</td>\n      <td>0.0</td>\n    </tr>\n    <tr>\n      <th>2</th>\n      <td>2</td>\n      <td>55</td>\n      <td>1</td>\n      <td>1</td>\n      <td>1096</td>\n      <td>2</td>\n      <td>219</td>\n      <td>129</td>\n      <td>47195</td>\n      <td>517</td>\n      <td>12</td>\n      <td>86</td>\n      <td>3</td>\n      <td>67994</td>\n      <td>11</td>\n      <td>5</td>\n      <td>4</td>\n      <td>3086</td>\n      <td>0</td>\n      <td>0</td>\n      <td>1</td>\n      <td>0</td>\n      <td>2.0</td>\n      <td>2.0</td>\n      <td>1.508202e+09</td>\n      <td>1.0</td>\n      <td>0.0</td>\n      <td>1.0</td>\n    </tr>\n    <tr>\n      <th>3</th>\n      <td>4</td>\n      <td>55</td>\n      <td>0</td>\n      <td>22</td>\n      <td>1096</td>\n      <td>3</td>\n      <td>211</td>\n      <td>129</td>\n      <td>44691</td>\n      <td>517</td>\n      <td>21</td>\n      <td>86</td>\n      <td>3</td>\n      <td>67994</td>\n      <td>11</td>\n      <td>5</td>\n      <td>4</td>\n      <td>8</td>\n      <td>5</td>\n      <td>117</td>\n      <td>1</td>\n      <td>1</td>\n      <td>2.0</td>\n      <td>2.0</td>\n      <td>1.508170e+09</td>\n      <td>1.0</td>\n      <td>0.0</td>\n      <td>1.0</td>\n    </tr>\n    <tr>\n      <th>4</th>\n      <td>4</td>\n      <td>55</td>\n      <td>0</td>\n      <td>22</td>\n      <td>1096</td>\n      <td>2</td>\n      <td>132</td>\n      <td>129</td>\n      <td>33811</td>\n      <td>517</td>\n      <td>3</td>\n      <td>86</td>\n      <td>3</td>\n      <td>67994</td>\n      <td>11</td>\n      <td>5</td>\n      <td>4</td>\n      <td>8</td>\n      <td>5</td>\n      <td>117</td>\n      <td>1</td>\n      <td>1</td>\n      <td>2.0</td>\n      <td>2.0</td>\n      <td>1.508191e+09</td>\n      <td>1.0</td>\n      <td>0.0</td>\n      <td>1.0</td>\n    </tr>\n  </tbody>\n</table>\n</div>"
          },
          "metadata": {}
        }
      ]
    },
    {
      "metadata": {
        "_uuid": "f73c36940c15414a760cf0516d4dbe5b10cee0fa"
      },
      "cell_type": "markdown",
      "source": "# Train & Test"
    },
    {
      "metadata": {
        "trusted": true,
        "_uuid": "c0004fa61b7821b88a1cb0e03d259441f4bd0c11"
      },
      "cell_type": "code",
      "source": "def get_mse(pred_y, true_y, visitor_id):\n    pred_y[pred_y<0] = 0\n    pred_y_df = pd.DataFrame({\"fullVisitorId\":visitor_id})\n    pred_y_df[\"transactionRevenue\"] = true_y\n    pred_y_df[\"PredictedRevenue\"] = pred_y\n    pred_y_df = pred_y_df.groupby(\"fullVisitorId\")[\"transactionRevenue\", \"PredictedRevenue\"].sum().reset_index()\n    return (np.sqrt(metrics.mean_squared_error(np.log1p(pred_y_df[\"transactionRevenue\"].values), np.log1p(pred_y_df[\"PredictedRevenue\"].values))))",
      "execution_count": 20,
      "outputs": []
    },
    {
      "metadata": {
        "_uuid": "bb27beb0fec780d61c21580fc0820d9b378297b6"
      },
      "cell_type": "markdown",
      "source": "## Linear Regression"
    },
    {
      "metadata": {
        "trusted": true,
        "_uuid": "3dc29243efe5afdcf00734cb2d27205e77485f0d"
      },
      "cell_type": "code",
      "source": "lin_reg = LinearRegression().fit(train_x, train_y)\npred_val_y = lin_reg.predict(val_x)\npred_test_y = lin_reg.predict(test_x)",
      "execution_count": 21,
      "outputs": []
    },
    {
      "metadata": {
        "trusted": true,
        "_uuid": "1dfb0d95c42759a627d3f47b6cd2ed51992aa6a6"
      },
      "cell_type": "code",
      "source": "mse_lin = get_mse(pred_val_y, val_y, val_id)\nmse_lin",
      "execution_count": 22,
      "outputs": [
        {
          "output_type": "execute_result",
          "execution_count": 22,
          "data": {
            "text/plain": "8.664401065570745"
          },
          "metadata": {}
        }
      ]
    },
    {
      "metadata": {
        "_uuid": "ca2487a164fe8517efc5dd229174220983ec904a"
      },
      "cell_type": "markdown",
      "source": "## Lasso"
    },
    {
      "metadata": {
        "trusted": true,
        "_uuid": "0daf71b96cbcfa4098dc0b8ddd5b41e49444f03f"
      },
      "cell_type": "code",
      "source": "alphas = [0.01,0.1,1,10,100]",
      "execution_count": 23,
      "outputs": []
    },
    {
      "metadata": {
        "trusted": true,
        "_uuid": "a5ae74a6a2795edf7fecbf23f4138a9a89f7f28a"
      },
      "cell_type": "code",
      "source": "for a in alphas:\n    lasso_reg = Lasso(alpha = a).fit(train_x, train_y)\n    pred_val_y = lasso_reg.predict(val_x)\n    pred_test_y = lasso_reg.predict(test_x)\n    print(\"alpha is \" + str(a))\n    print(\"mse is \" + str(get_mse(pred_val_y, val_y, val_id)))",
      "execution_count": 24,
      "outputs": [
        {
          "output_type": "stream",
          "text": "/opt/conda/lib/python3.6/site-packages/sklearn/linear_model/coordinate_descent.py:492: ConvergenceWarning:\n\nObjective did not converge. You might want to increase the number of iterations. Fitting data with very small alpha may cause precision problems.\n\n",
          "name": "stderr"
        },
        {
          "output_type": "stream",
          "text": "alpha is 0.01\nmse is 8.664327116930957\n",
          "name": "stdout"
        },
        {
          "output_type": "stream",
          "text": "/opt/conda/lib/python3.6/site-packages/sklearn/linear_model/coordinate_descent.py:492: ConvergenceWarning:\n\nObjective did not converge. You might want to increase the number of iterations. Fitting data with very small alpha may cause precision problems.\n\n",
          "name": "stderr"
        },
        {
          "output_type": "stream",
          "text": "alpha is 0.1\nmse is 8.664330868284313\n",
          "name": "stdout"
        },
        {
          "output_type": "stream",
          "text": "/opt/conda/lib/python3.6/site-packages/sklearn/linear_model/coordinate_descent.py:492: ConvergenceWarning:\n\nObjective did not converge. You might want to increase the number of iterations. Fitting data with very small alpha may cause precision problems.\n\n",
          "name": "stderr"
        },
        {
          "output_type": "stream",
          "text": "alpha is 1\nmse is 8.664357106723406\n",
          "name": "stdout"
        },
        {
          "output_type": "stream",
          "text": "/opt/conda/lib/python3.6/site-packages/sklearn/linear_model/coordinate_descent.py:492: ConvergenceWarning:\n\nObjective did not converge. You might want to increase the number of iterations. Fitting data with very small alpha may cause precision problems.\n\n",
          "name": "stderr"
        },
        {
          "output_type": "stream",
          "text": "alpha is 10\nmse is 8.664520874909705\n",
          "name": "stdout"
        },
        {
          "output_type": "stream",
          "text": "/opt/conda/lib/python3.6/site-packages/sklearn/linear_model/coordinate_descent.py:492: ConvergenceWarning:\n\nObjective did not converge. You might want to increase the number of iterations. Fitting data with very small alpha may cause precision problems.\n\n",
          "name": "stderr"
        },
        {
          "output_type": "stream",
          "text": "alpha is 100\nmse is 8.665590489375765\n",
          "name": "stdout"
        }
      ]
    },
    {
      "metadata": {
        "_uuid": "ae46931b2c6843e8e0874e3a6446dd363a21f46d"
      },
      "cell_type": "markdown",
      "source": "## Ridge"
    },
    {
      "metadata": {
        "trusted": true,
        "_uuid": "5414fa60448b4ce3a5b5616a610d7b64840fddd3"
      },
      "cell_type": "code",
      "source": "alphas = [0.01,0.1,1,10,100]",
      "execution_count": 25,
      "outputs": []
    },
    {
      "metadata": {
        "trusted": true,
        "_uuid": "c494a5a5b9e5791504760fe87d7c04886842705d"
      },
      "cell_type": "code",
      "source": "for a in alphas:\n    ridge_reg = Ridge(alpha = a).fit(train_x, train_y)\n    pred_val_y = ridge_reg.predict(val_x)\n    pred_test_y = ridge_reg.predict(test_x)\n    print(\"alpha is \" + str(a))\n    print(\"mse is\" + str(get_mse(pred_val_y, val_y, val_id)))",
      "execution_count": 26,
      "outputs": [
        {
          "output_type": "stream",
          "text": "/opt/conda/lib/python3.6/site-packages/sklearn/linear_model/ridge.py:125: LinAlgWarning:\n\nscipy.linalg.solve\nIll-conditioned matrix detected. Result is not guaranteed to be accurate.\nReciprocal condition number3.643702e-19\n\n",
          "name": "stderr"
        },
        {
          "output_type": "stream",
          "text": "alpha is 0.01\nmse is8.664401071490563\n",
          "name": "stdout"
        },
        {
          "output_type": "stream",
          "text": "/opt/conda/lib/python3.6/site-packages/sklearn/linear_model/ridge.py:125: LinAlgWarning:\n\nscipy.linalg.solve\nIll-conditioned matrix detected. Result is not guaranteed to be accurate.\nReciprocal condition number3.647722e-19\n\n",
          "name": "stderr"
        },
        {
          "output_type": "stream",
          "text": "alpha is 0.1\nmse is8.66440108367824\n",
          "name": "stdout"
        },
        {
          "output_type": "stream",
          "text": "/opt/conda/lib/python3.6/site-packages/sklearn/linear_model/ridge.py:125: LinAlgWarning:\n\nscipy.linalg.solve\nIll-conditioned matrix detected. Result is not guaranteed to be accurate.\nReciprocal condition number3.687930e-19\n\n",
          "name": "stderr"
        },
        {
          "output_type": "stream",
          "text": "alpha is 1\nmse is8.664396296517642\n",
          "name": "stdout"
        },
        {
          "output_type": "stream",
          "text": "/opt/conda/lib/python3.6/site-packages/sklearn/linear_model/ridge.py:125: LinAlgWarning:\n\nscipy.linalg.solve\nIll-conditioned matrix detected. Result is not guaranteed to be accurate.\nReciprocal condition number4.091417e-19\n\n",
          "name": "stderr"
        },
        {
          "output_type": "stream",
          "text": "alpha is 10\nmse is8.664436670639697\n",
          "name": "stdout"
        },
        {
          "output_type": "stream",
          "text": "/opt/conda/lib/python3.6/site-packages/sklearn/linear_model/ridge.py:125: LinAlgWarning:\n\nscipy.linalg.solve\nIll-conditioned matrix detected. Result is not guaranteed to be accurate.\nReciprocal condition number8.238331e-19\n\n",
          "name": "stderr"
        },
        {
          "output_type": "stream",
          "text": "alpha is 100\nmse is8.664089500399202\n",
          "name": "stdout"
        }
      ]
    },
    {
      "metadata": {
        "_uuid": "147339a4e1cc49691c861580655acaae109267c9"
      },
      "cell_type": "markdown",
      "source": "## light GBM"
    },
    {
      "metadata": {
        "trusted": true,
        "_uuid": "c70aff8762face910b8a8afa79b833464b4c687c"
      },
      "cell_type": "code",
      "source": "# custom function to run light gbm model\ndef run_lgb(train_X, train_y, val_X, val_y, test_X):\n    params = {\n        \"objective\" : \"regression\",\n        \"metric\" : \"rmse\", \n        \"num_leaves\" : 30,\n        \"min_child_samples\" : 100,\n        \"learning_rate\" : 0.1,\n        \"bagging_fraction\" : 0.7,\n        \"feature_fraction\" : 0.5,\n        \"bagging_frequency\" : 5,\n        \"bagging_seed\" : 2018,\n        \"verbosity\" : -1\n    }\n    \n    lgtrain = lgb.Dataset(train_X, label=train_y)\n    lgval = lgb.Dataset(val_X, label=val_y)\n    model = lgb.train(params, lgtrain, 1000, valid_sets=[lgval], early_stopping_rounds=100, verbose_eval=100)\n    \n    pred_test_y = model.predict(test_X, num_iteration=model.best_iteration)\n    pred_val_y = model.predict(val_X, num_iteration=model.best_iteration)\n    return pred_test_y, model, pred_val_y\n\n# Training the model #\npred_test_y, model, pred_val_y = run_lgb(train_x, train_y, val_x, val_y, test_x)",
      "execution_count": 27,
      "outputs": [
        {
          "output_type": "stream",
          "text": "Training until validation scores don't improve for 100 rounds.\n[100]\tvalid_0's rmse: 2.26825e+07\nEarly stopping, best iteration is:\n[19]\tvalid_0's rmse: 2.23313e+07\n",
          "name": "stdout"
        }
      ]
    },
    {
      "metadata": {
        "trusted": true,
        "_uuid": "75d2582885e0e1e1acfba52f56102b9dce4cf7ae"
      },
      "cell_type": "code",
      "source": "mse_lgb = get_mse(pred_val_y, val_y, val_id)\nmse_lgb",
      "execution_count": 28,
      "outputs": [
        {
          "output_type": "execute_result",
          "execution_count": 28,
          "data": {
            "text/plain": "12.42734552951002"
          },
          "metadata": {}
        }
      ]
    },
    {
      "metadata": {
        "trusted": true,
        "_uuid": "b420257e7438d72ee2216301cee45827a65ca0fd"
      },
      "cell_type": "code",
      "source": "fig, ax = plt.subplots(figsize=(12,18))\nlgb.plot_importance(model, max_num_features=50, height=0.8, ax=ax)\nax.grid(False)\nplt.title(\"LightGBM - Feature Importance\", fontsize=15)\nplt.show()",
      "execution_count": 29,
      "outputs": [
        {
          "output_type": "display_data",
          "data": {
            "text/plain": "<Figure size 864x1296 with 1 Axes>",
            "image/png": "[encoded data removed]"
          },
          "metadata": {}
        }
      ]
    },
    {
      "metadata": {
        "_uuid": "2e721389b4855eeca8d0cbf308f7a5bd3421d5c6"
      },
      "cell_type": "markdown",
      "source": "## Select a subset of features to build Random Forest model."
    },
    {
      "metadata": {
        "trusted": true,
        "_uuid": "e32368d87b713b6ea88e5066ba2367be246eef38"
      },
      "cell_type": "code",
      "source": "model.feature_importance()",
      "execution_count": 30,
      "outputs": [
        {
          "output_type": "execute_result",
          "execution_count": 30,
          "data": {
            "text/plain": "array([37, 17, 18, 36, 23, 14, 21, 30, 39, 21,  3,  0,  0,  0,  0,  0,  0,\n        1,  6, 11,  0, 12, 51, 71, 79, 51,  2,  8])"
          },
          "metadata": {}
        }
      ]
    },
    {
      "metadata": {
        "trusted": true,
        "_uuid": "20be1b401b608cde2ca92e6f26479a74dc250660"
      },
      "cell_type": "code",
      "source": "selected = model.feature_importance() > 30",
      "execution_count": 31,
      "outputs": []
    },
    {
      "metadata": {
        "trusted": true,
        "_uuid": "150453fbebb16384eb840647ae8757e5eb74bf6e"
      },
      "cell_type": "code",
      "source": "selected",
      "execution_count": 32,
      "outputs": [
        {
          "output_type": "execute_result",
          "execution_count": 32,
          "data": {
            "text/plain": "array([ True, False, False,  True, False, False, False, False,  True,\n       False, False, False, False, False, False, False, False, False,\n       False, False, False, False,  True,  True,  True,  True, False,\n       False])"
          },
          "metadata": {}
        }
      ]
    },
    {
      "metadata": {
        "trusted": true,
        "_uuid": "98ab40e551e0f070a2abb2c7d07bd806762b8b8a"
      },
      "cell_type": "code",
      "source": "all_features = model.feature_name()\nselected_features = []",
      "execution_count": 33,
      "outputs": []
    },
    {
      "metadata": {
        "trusted": true,
        "_uuid": "4e7e57e676158f387f3c9693be62dbd40187aeaa"
      },
      "cell_type": "code",
      "source": "for i in range(len(selected)):\n    if selected[i]==True:\n        selected_features.append(all_features[i])",
      "execution_count": 34,
      "outputs": []
    },
    {
      "metadata": {
        "trusted": true,
        "_uuid": "a070e573c7096179cc86f244629d400b77d3f45b"
      },
      "cell_type": "code",
      "source": "selected_features",
      "execution_count": 35,
      "outputs": [
        {
          "output_type": "execute_result",
          "execution_count": 35,
          "data": {
            "text/plain": "['channelGrouping',\n 'device_operatingSystem',\n 'geoNetwork_networkDomain',\n 'totals_hits',\n 'totals_pageviews',\n 'visitStartTime',\n 'visitNumber']"
          },
          "metadata": {}
        }
      ]
    },
    {
      "metadata": {
        "trusted": true,
        "_uuid": "f8405883053cf1310540e3149c3d19d2c96c4c05"
      },
      "cell_type": "code",
      "source": "train_x_selected = train_x[selected_features]\nval_x_selected = val_x[selected_features]\ntest_x_selected = test_x[selected_features]",
      "execution_count": 36,
      "outputs": []
    },
    {
      "metadata": {
        "trusted": true,
        "_uuid": "94f6857f08f2c4e8b0ca90c447fee333136b1409"
      },
      "cell_type": "markdown",
      "source": "## Random Forest"
    },
    {
      "metadata": {
        "trusted": true,
        "_uuid": "5aa33568f3b86708c1b934967e1435b905049bc3"
      },
      "cell_type": "code",
      "source": "rf_reg = RandomForestRegressor(n_estimators = 20)",
      "execution_count": 37,
      "outputs": []
    },
    {
      "metadata": {
        "trusted": true,
        "_uuid": "1988191c77ba7807d026f46a8dee1a83f76eb06f"
      },
      "cell_type": "code",
      "source": "rf_reg = rf_reg.fit(train_x_selected, train_y)",
      "execution_count": 38,
      "outputs": []
    },
    {
      "metadata": {
        "trusted": true,
        "_uuid": "34f251907372207fe6c5475ca2c082924f390c58"
      },
      "cell_type": "code",
      "source": "pred_val_y = rf_reg.predict(val_x_selected)",
      "execution_count": 39,
      "outputs": []
    },
    {
      "metadata": {
        "trusted": true,
        "_uuid": "710b47bb05a8ddd7d6df1ed56263aad43f4c46d2"
      },
      "cell_type": "code",
      "source": "mse_rf = get_mse(pred_val_y, val_y, val_id)\nmse_rf",
      "execution_count": 40,
      "outputs": [
        {
          "output_type": "execute_result",
          "execution_count": 40,
          "data": {
            "text/plain": "3.8862266674554617"
          },
          "metadata": {}
        }
      ]
    },
    {
      "metadata": {
        "trusted": true,
        "_uuid": "ae571fb29727765db6d459a3954ea3e3350dfd2c"
      },
      "cell_type": "markdown",
      "source": "## Test and Output"
    },
    {
      "metadata": {
        "trusted": true,
        "_uuid": "4b3e3b0da24835cb5553b6b04311853f168c7635"
      },
      "cell_type": "code",
      "source": "pred_test_y = rf_reg.predict(test_x_selected)\nmse_rf = get_mse(pred_test_y, test_y, test_id)\nmse_rf",
      "execution_count": 41,
      "outputs": [
        {
          "output_type": "execute_result",
          "execution_count": 41,
          "data": {
            "text/plain": "4.582839360736201"
          },
          "metadata": {}
        }
      ]
    },
    {
      "metadata": {
        "trusted": true,
        "_uuid": "a410593e1b1d41409f09b744121ab5a4ccef0db8"
      },
      "cell_type": "code",
      "source": "sub_df = pd.DataFrame({\"fullVisitorId\":test_id})\npred_test_y[pred_test_y<0] = 0\nsub_df[\"PredictedLogRevenue\"] = pred_test_y\nsub_df = sub_df.groupby(\"fullVisitorId\")[\"PredictedLogRevenue\"].sum().reset_index()\nsub_df.columns = [\"fullVisitorId\", \"PredictedLogRevenue\"]\nsub_df[\"PredictedLogRevenue\"] = np.log1p(sub_df[\"PredictedLogRevenue\"])\nsub_df.to_csv(\"random_forest.csv\", index=False)",
      "execution_count": null,
      "outputs": []
    },
    {
      "metadata": {
        "trusted": true,
        "_uuid": "2693690410397721cd8e8fff12ff4813abee87fc"
      },
      "cell_type": "code",
      "source": "sub_df.head(14)",
      "execution_count": null,
      "outputs": []
    },
    {
      "metadata": {
        "trusted": true,
        "_uuid": "661243f849d344c8d4d81ad42c80ba18196c8d2f"
      },
      "cell_type": "code",
      "source": "sub_df.shape",
      "execution_count": null,
      "outputs": []
    },
    {
      "metadata": {
        "trusted": true,
        "_uuid": "a5ec353414357cbd81e90517e9a7c8820f946d43"
      },
      "cell_type": "code",
      "source": "",
      "execution_count": null,
      "outputs": []
    },
    {
      "metadata": {
        "trusted": true,
        "_uuid": "c938b056abbb584ccbdd4be0a0832e6e4ca8623d"
      },
      "cell_type": "code",
      "source": "",
      "execution_count": null,
      "outputs": []
    }
  ],
  "metadata": {
    "kernelspec": {
      "display_name": "Python 3",
      "language": "python",
      "name": "python3"
    },
    "language_info": {
      "name": "python",
      "version": "3.6.6",
      "mimetype": "text/x-python",
      "codemirror_mode": {
        "name": "ipython",
        "version": 3
      },
      "pygments_lexer": "ipython3",
      "nbconvert_exporter": "python",
      "file_extension": ".py"
    }
  },
  "nbformat": 4,
  "nbformat_minor": 1
}